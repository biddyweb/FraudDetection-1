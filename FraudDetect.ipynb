{
 "cells": [
  {
   "cell_type": "markdown",
   "metadata": {},
   "source": [
    "Let's try loading dataset and running logistical regression since this is choice modelling."
   ]
  },
  {
   "cell_type": "code",
   "execution_count": 2,
   "metadata": {
    "collapsed": false
   },
   "outputs": [
    {
     "data": {
      "text/html": [
       "<div style=\"max-height:1000px;max-width:1500px;overflow:auto;\">\n",
       "<table border=\"1\" class=\"dataframe\">\n",
       "  <thead>\n",
       "    <tr style=\"text-align: right;\">\n",
       "      <th></th>\n",
       "      <th>Acct</th>\n",
       "      <th>Sequence</th>\n",
       "      <th>ZIP</th>\n",
       "      <th>MCC</th>\n",
       "      <th>Fraud</th>\n",
       "      <th>AMT</th>\n",
       "    </tr>\n",
       "  </thead>\n",
       "  <tbody>\n",
       "    <tr>\n",
       "      <th>0</th>\n",
       "      <td> 4321560000001849</td>\n",
       "      <td> 1</td>\n",
       "      <td> 94463</td>\n",
       "      <td> 5464</td>\n",
       "      <td> False</td>\n",
       "      <td>  16.40</td>\n",
       "    </tr>\n",
       "    <tr>\n",
       "      <th>1</th>\n",
       "      <td> 4321560000009502</td>\n",
       "      <td> 2</td>\n",
       "      <td> 94476</td>\n",
       "      <td> 5438</td>\n",
       "      <td> False</td>\n",
       "      <td> 176.45</td>\n",
       "    </tr>\n",
       "    <tr>\n",
       "      <th>2</th>\n",
       "      <td> 4321560000007353</td>\n",
       "      <td> 3</td>\n",
       "      <td> 94411</td>\n",
       "      <td> 5478</td>\n",
       "      <td> False</td>\n",
       "      <td>  81.79</td>\n",
       "    </tr>\n",
       "    <tr>\n",
       "      <th>3</th>\n",
       "      <td> 4321560000002807</td>\n",
       "      <td> 4</td>\n",
       "      <td> 94429</td>\n",
       "      <td> 5437</td>\n",
       "      <td> False</td>\n",
       "      <td> 146.24</td>\n",
       "    </tr>\n",
       "    <tr>\n",
       "      <th>4</th>\n",
       "      <td> 4321560000003364</td>\n",
       "      <td> 5</td>\n",
       "      <td> 94402</td>\n",
       "      <td> 5461</td>\n",
       "      <td> False</td>\n",
       "      <td> 105.83</td>\n",
       "    </tr>\n",
       "  </tbody>\n",
       "</table>\n",
       "</div>"
      ],
      "text/plain": [
       "               Acct  Sequence    ZIP   MCC  Fraud     AMT\n",
       "0  4321560000001849         1  94463  5464  False   16.40\n",
       "1  4321560000009502         2  94476  5438  False  176.45\n",
       "2  4321560000007353         3  94411  5478  False   81.79\n",
       "3  4321560000002807         4  94429  5437  False  146.24\n",
       "4  4321560000003364         5  94402  5461  False  105.83"
      ]
     },
     "execution_count": 2,
     "metadata": {},
     "output_type": "execute_result"
    }
   ],
   "source": [
    "%matplotlib inline\n",
    "from __future__ import division\n",
    "import pandas as pd\n",
    "import numpy as np\n",
    "from seaborn import plt\n",
    "import statsmodels.api as sm\n",
    "\n",
    "filename = './FraudDataSet.xlsx'\n",
    "df_data = pd.read_excel(filename)\n",
    "#re-order columns\n",
    "df_data = df_data[['Acct', 'Sequence', 'ZIP', 'MCC', 'Fraud', 'AMT']]\n",
    "df_data.head()"
   ]
  },
  {
   "cell_type": "markdown",
   "metadata": {},
   "source": [
    "About the Data:\n",
    "500 Rows with Dummy card numbers along with a unique sequence ID for all the transactions against them. Transaction attributes/columns include the Zip Code, Merchant Category code, Amount involved in the transaction and whether the transaction was Fraud or not."
   ]
  },
  {
   "cell_type": "code",
   "execution_count": 3,
   "metadata": {
    "collapsed": false
   },
   "outputs": [
    {
     "data": {
      "text/plain": [
       "(500, 675)"
      ]
     },
     "execution_count": 3,
     "metadata": {},
     "output_type": "execute_result"
    }
   ],
   "source": [
    "#Converting the 3 Categorical variables Zip, MCC, and Acct to dummy/indicator variables \n",
    "#and adding them to the dataframe\n",
    "df_data = pd.concat([df_data, pd.get_dummies(df_data['ZIP'], prefix='Zip')], axis=1)\n",
    "df_data = pd.concat([df_data, pd.get_dummies(df_data['MCC'], prefix='MCC')], axis=1)\n",
    "df_data = pd.concat([df_data, pd.get_dummies(df_data['Acct'], prefix='Acct')], axis=1)\n",
    "df_data.shape"
   ]
  },
  {
   "cell_type": "code",
   "execution_count": 4,
   "metadata": {
    "collapsed": false
   },
   "outputs": [
    {
     "data": {
      "text/plain": [
       "<matplotlib.axes._subplots.AxesSubplot at 0x109e25fd0>"
      ]
     },
     "execution_count": 4,
     "metadata": {},
     "output_type": "execute_result"
    },
    {
     "data": {
      "image/png": "[encoded data removed]",
      "text/plain": [
       "<matplotlib.figure.Figure at 0x1043c5190>"
      ]
     },
     "metadata": {},
     "output_type": "display_data"
    }
   ],
   "source": [
    "#Set 0 if Fraud is False else 1\n",
    "df_data['Fraud'] = df_data['Fraud'].apply(lambda x: 1 if x else 0)\n",
    "df_data['Fraud'].hist()"
   ]
  },
  {
   "cell_type": "code",
   "execution_count": 5,
   "metadata": {
    "collapsed": false
   },
   "outputs": [
    {
     "data": {
      "text/plain": [
       "<matplotlib.axes._subplots.AxesSubplot at 0x103fa7bd0>"
      ]
     },
     "execution_count": 5,
     "metadata": {},
     "output_type": "execute_result"
    },
    {
     "data": {
      "image/png": "[encoded data removed]",
      "text/plain": [
       "<matplotlib.figure.Figure at 0x103fa7490>"
      ]
     },
     "metadata": {},
     "output_type": "display_data"
    }
   ],
   "source": [
    "#Just visualizing how amount looks like and if it needs any transformations.\n",
    "df_data['AMT'].hist()"
   ]
  },
  {
   "cell_type": "code",
   "execution_count": 6,
   "metadata": {
    "collapsed": false
   },
   "outputs": [
    {
     "name": "stdout",
     "output_type": "stream",
     "text": [
      "(500,)\n",
      "(500, 670)\n"
     ]
    }
   ],
   "source": [
    "#Setting the target dependnent variable Y and input independent variables X\n",
    "df_y = df_data['Fraud']\n",
    "df_x = df_data.ix[:,5:]\n",
    "print df_y.shape\n",
    "print df_x.shape"
   ]
  },
  {
   "cell_type": "code",
   "execution_count": 7,
   "metadata": {
    "collapsed": false
   },
   "outputs": [],
   "source": [
    "#Running the Logistic regression model on above results in error due to\n",
    "#Too many categorical variables that lead to High dimensionality and collinearity problem. \n",
    "#So Reducing dimensions using PCA to understand the model better"
   ]
  },
  {
   "cell_type": "code",
   "execution_count": 8,
   "metadata": {
    "collapsed": false
   },
   "outputs": [
    {
     "data": {
      "text/plain": [
       "PCA(copy=True, n_components=3, whiten=True)"
      ]
     },
     "execution_count": 8,
     "metadata": {},
     "output_type": "execute_result"
    }
   ],
   "source": [
    "from sklearn.decomposition import PCA\n",
    "pca = PCA(n_components=3, whiten=True)\n",
    "pca.fit(df_x.values)"
   ]
  },
  {
   "cell_type": "code",
   "execution_count": 9,
   "metadata": {
    "collapsed": false
   },
   "outputs": [
    {
     "data": {
      "text/plain": [
       "(3, 670)"
      ]
     },
     "execution_count": 9,
     "metadata": {},
     "output_type": "execute_result"
    }
   ],
   "source": [
    "pca.components_\n",
    "pca.components_.shape"
   ]
  },
  {
   "cell_type": "code",
   "execution_count": 10,
   "metadata": {
    "collapsed": false
   },
   "outputs": [
    {
     "data": {
      "text/plain": [
       "array([  9.99139370e-01,   3.93569836e-05,   2.16993746e-05])"
      ]
     },
     "execution_count": 10,
     "metadata": {},
     "output_type": "execute_result"
    }
   ],
   "source": [
    "pca.explained_variance_ratio_"
   ]
  },
  {
   "cell_type": "code",
   "execution_count": 11,
   "metadata": {
    "collapsed": false
   },
   "outputs": [
    {
     "data": {
      "text/plain": [
       "0.99920042652418783"
      ]
     },
     "execution_count": 11,
     "metadata": {},
     "output_type": "execute_result"
    }
   ],
   "source": [
    "pca.explained_variance_ratio_.sum()"
   ]
  },
  {
   "cell_type": "markdown",
   "metadata": {
    "collapsed": false
   },
   "source": [
    "99.91 % of the variance in the data is explained by the 3 components and the first components contributes the highest towards the variance explanation."
   ]
  },
  {
   "cell_type": "code",
   "execution_count": 12,
   "metadata": {
    "collapsed": false
   },
   "outputs": [],
   "source": [
    "#Transforming the input values using the PCA object to conform to it.\n",
    "x_pca = pca.transform(df_x.values)"
   ]
  },
  {
   "cell_type": "code",
   "execution_count": 13,
   "metadata": {
    "collapsed": false
   },
   "outputs": [
    {
     "data": {
      "text/html": [
       "<div style=\"max-height:1000px;max-width:1500px;overflow:auto;\">\n",
       "<table border=\"1\" class=\"dataframe\">\n",
       "  <thead>\n",
       "    <tr style=\"text-align: right;\">\n",
       "      <th></th>\n",
       "      <th>PC1</th>\n",
       "      <th>PC2</th>\n",
       "      <th>PC3</th>\n",
       "    </tr>\n",
       "  </thead>\n",
       "  <tbody>\n",
       "    <tr>\n",
       "      <th>0</th>\n",
       "      <td> 1.428026</td>\n",
       "      <td> 0.765187</td>\n",
       "      <td> 0.067347</td>\n",
       "    </tr>\n",
       "    <tr>\n",
       "      <th>1</th>\n",
       "      <td>-1.311901</td>\n",
       "      <td>-0.107812</td>\n",
       "      <td>-0.507417</td>\n",
       "    </tr>\n",
       "    <tr>\n",
       "      <th>2</th>\n",
       "      <td> 0.308600</td>\n",
       "      <td> 0.402414</td>\n",
       "      <td>-0.151684</td>\n",
       "    </tr>\n",
       "    <tr>\n",
       "      <th>3</th>\n",
       "      <td>-0.794733</td>\n",
       "      <td> 0.078233</td>\n",
       "      <td>-0.448306</td>\n",
       "    </tr>\n",
       "    <tr>\n",
       "      <th>4</th>\n",
       "      <td>-0.102946</td>\n",
       "      <td> 0.289364</td>\n",
       "      <td>-0.175015</td>\n",
       "    </tr>\n",
       "  </tbody>\n",
       "</table>\n",
       "</div>"
      ],
      "text/plain": [
       "        PC1       PC2       PC3\n",
       "0  1.428026  0.765187  0.067347\n",
       "1 -1.311901 -0.107812 -0.507417\n",
       "2  0.308600  0.402414 -0.151684\n",
       "3 -0.794733  0.078233 -0.448306\n",
       "4 -0.102946  0.289364 -0.175015"
      ]
     },
     "execution_count": 13,
     "metadata": {},
     "output_type": "execute_result"
    }
   ],
   "source": [
    "df_x_pca = pd.DataFrame(x_pca, columns=['PC1', 'PC2', 'PC3'])\n",
    "df_x_pca.head()"
   ]
  },
  {
   "cell_type": "code",
   "execution_count": 14,
   "metadata": {
    "collapsed": false
   },
   "outputs": [
    {
     "name": "stdout",
     "output_type": "stream",
     "text": [
      "Optimization terminated successfully.\n",
      "         Current function value: 0.586756\n",
      "         Iterations 7\n",
      "                           Logit Regression Results                           \n",
      "==============================================================================\n",
      "Dep. Variable:                  Fraud   No. Observations:                  500\n",
      "Model:                          Logit   Df Residuals:                      497\n",
      "Method:                           MLE   Df Model:                            2\n",
      "Date:                Sun, 15 Mar 2015   Pseudo R-squ.:                 -0.3345\n",
      "Time:                        09:26:17   Log-Likelihood:                -293.38\n",
      "converged:                       True   LL-Null:                       -219.83\n",
      "                                        LLR p-value:                     1.000\n",
      "==============================================================================\n",
      "                 coef    std err          z      P>|z|      [95.0% Conf. Int.]\n",
      "------------------------------------------------------------------------------\n",
      "PC1           -0.4392      0.128     -3.436      0.001        -0.690    -0.189\n",
      "PC2           -0.3342      0.093     -3.584      0.000        -0.517    -0.151\n",
      "PC3            3.1689      0.428      7.405      0.000         2.330     4.008\n",
      "==============================================================================\n"
     ]
    }
   ],
   "source": [
    "#Adding the constant was not really improving the model. Using 3 components improves the model\n",
    "#df_x_pca = sm.add_constant(df_x_pca)\n",
    "logit_regression = sm.Logit(df_y, df_x_pca)\n",
    "result = logit_regression.fit()\n",
    "print result.summary()"
   ]
  },
  {
   "cell_type": "code",
   "execution_count": 15,
   "metadata": {
    "collapsed": false
   },
   "outputs": [
    {
     "name": "stdout",
     "output_type": "stream",
     "text": [
      "   Fraud_Result  Fraud_Prob\n",
      "0             0    0.338594\n",
      "1             0    0.269790\n",
      "2             0    0.320665\n",
      "3             0    0.250169\n",
      "4             0    0.352949\n"
     ]
    }
   ],
   "source": [
    "#Creating a new dataframe for results of the model predictions\n",
    "df_y_predict = pd.DataFrame()\n",
    "#Loading existing Fraud results\n",
    "df_y_predict['Fraud_Result'] = df_data['Fraud']\n",
    "#Loading the predicted fraud results from the model\n",
    "df_y_predict['Fraud_Prob'] = result.predict(df_x_pca)\n",
    "print df_y_predict.head()"
   ]
  },
  {
   "cell_type": "code",
   "execution_count": 16,
   "metadata": {
    "collapsed": false
   },
   "outputs": [
    {
     "name": "stdout",
     "output_type": "stream",
     "text": [
      "    Fraud_Result  Fraud_Prob  Fraud_Predicted\n",
      "6              1    0.647489                1\n",
      "7              0    0.999417                1\n",
      "12             1    1.000000                1\n",
      "18             1    0.642884                1\n",
      "24             1    1.000000                1\n",
      "30             0    0.999612                1\n",
      "32             0    0.640087                1\n",
      "40             1    0.739269                1\n",
      "43             1    1.000000                1\n",
      "46             1    1.000000                1\n"
     ]
    }
   ],
   "source": [
    "df_y_predict['Fraud_Predicted'] = np.nan\n",
    "#Taking a 50% Threshold for predictions\n",
    "df_y_predict.ix[df_y_predict['Fraud_Prob'] >0.50,'Fraud_Predicted'] = 1\n",
    "df_y_predict.ix[df_y_predict['Fraud_Prob'] <=0.50,'Fraud_Predicted'] = 0\n",
    "print df_y_predict[df_y_predict['Fraud_Predicted'] ==1].head(10)"
   ]
  },
  {
   "cell_type": "code",
   "execution_count": 17,
   "metadata": {
    "collapsed": false
   },
   "outputs": [
    {
     "name": "stdout",
     "output_type": "stream",
     "text": [
      "[[388  32]\n",
      " [ 48  32]]\n"
     ]
    }
   ],
   "source": [
    "from sklearn import metrics\n",
    "print metrics.confusion_matrix(df_y_predict['Fraud_Result'], df_y_predict['Fraud_Predicted'])"
   ]
  },
  {
   "cell_type": "code",
   "execution_count": 18,
   "metadata": {
    "collapsed": false
   },
   "outputs": [
    {
     "name": "stdout",
     "output_type": "stream",
     "text": [
      "             precision    recall  f1-score   support\n",
      "\n",
      "          0       0.89      0.92      0.91       420\n",
      "          1       0.50      0.40      0.44        80\n",
      "\n",
      "avg / total       0.83      0.84      0.83       500\n",
      "\n"
     ]
    }
   ],
   "source": [
    "print metrics.classification_report(df_y_predict['Fraud_Result'], df_y_predict['Fraud_Predicted'])"
   ]
  },
  {
   "cell_type": "code",
   "execution_count": 19,
   "metadata": {
    "collapsed": false
   },
   "outputs": [
    {
     "data": {
      "text/plain": [
       "0.83999999999999997"
      ]
     },
     "execution_count": 19,
     "metadata": {},
     "output_type": "execute_result"
    }
   ],
   "source": [
    "from sklearn import metrics\n",
    "metrics.accuracy_score(df_y_predict['Fraud_Result'], df_y_predict['Fraud_Predicted'])"
   ]
  },
  {
   "cell_type": "markdown",
   "metadata": {},
   "source": [
    "That's 84% accuracy w.r.t to our predicted values matching our real world results data set."
   ]
  },
  {
   "cell_type": "markdown",
   "metadata": {},
   "source": [
    "Cross Validate to see if that predictive accuracy holds for Logistic Regression"
   ]
  },
  {
   "cell_type": "code",
   "execution_count": 20,
   "metadata": {
    "collapsed": false
   },
   "outputs": [
    {
     "name": "stdout",
     "output_type": "stream",
     "text": [
      "(500,)\n",
      "(500, 670)\n"
     ]
    }
   ],
   "source": [
    "#Reload our transformed original data again\n",
    "df_y = df_data['Fraud']\n",
    "df_x = df_data.ix[:,5:]\n",
    "print df_y.shape\n",
    "print df_x.shape"
   ]
  },
  {
   "cell_type": "code",
   "execution_count": 21,
   "metadata": {
    "collapsed": false
   },
   "outputs": [
    {
     "name": "stdout",
     "output_type": "stream",
     "text": [
      "(350, 670)\n",
      "(350,)\n",
      "(150, 670)\n",
      "(150,)\n"
     ]
    }
   ],
   "source": [
    "from sklearn.linear_model import LogisticRegression\n",
    "from sklearn.cross_validation import train_test_split, cross_val_score\n",
    "from sklearn.preprocessing import scale\n",
    "\n",
    "#Create the training (and test) set using scikit-learn's train_test_split function\n",
    "x_train, x_test, y_train, y_test = train_test_split(df_x, df_y, test_size=0.3, random_state=12)\n",
    "print x_train.shape\n",
    "print y_train.shape\n",
    "print x_test.shape\n",
    "print y_test.shape"
   ]
  },
  {
   "cell_type": "code",
   "execution_count": 25,
   "metadata": {
    "collapsed": false
   },
   "outputs": [
    {
     "data": {
      "text/plain": [
       "0.9028571428571428"
      ]
     },
     "execution_count": 25,
     "metadata": {},
     "output_type": "execute_result"
    }
   ],
   "source": [
    "#Using a logistic regression model from scikit learn to fit with X and y\n",
    "logistic_model = LogisticRegression()\n",
    "logistic_model = logistic_model.fit(x_train, y_train)\n",
    "\n",
    "#Checking the accuracy on the training set\n",
    "logistic_model.score(x_train, y_train)"
   ]
  },
  {
   "cell_type": "code",
   "execution_count": 26,
   "metadata": {
    "collapsed": false
   },
   "outputs": [
    {
     "data": {
      "text/plain": [
       "0.88"
      ]
     },
     "execution_count": 26,
     "metadata": {},
     "output_type": "execute_result"
    }
   ],
   "source": [
    "#Checking the accuracy on the test set\n",
    "logistic_model.score(x_test, y_test)"
   ]
  },
  {
   "cell_type": "code",
   "execution_count": 27,
   "metadata": {
    "collapsed": false
   },
   "outputs": [
    {
     "name": "stdout",
     "output_type": "stream",
     "text": [
      "[ 0.8125      0.86666667  0.86666667  0.86666667  0.86666667  0.86666667\n",
      "  0.86666667  0.86666667  0.86666667  0.85714286]\n",
      "Mean Accuracy on our overall data set using Logistic Regression = 86.03\n"
     ]
    }
   ],
   "source": [
    "#Checking mean accuracy with Cross Validation on the test set using 10 Fold Cross Validation\n",
    "scores = cross_val_score(logistic_model, x_test, y_test, cv=10)\n",
    "print scores\n",
    "print \"Mean Accuracy on our overall data set using Logistic Regression = %0.2f\" % (scores.mean()*100)"
   ]
  },
  {
   "cell_type": "markdown",
   "metadata": {},
   "source": [
    "Let's try KNN for the heck of it"
   ]
  },
  {
   "cell_type": "code",
   "execution_count": 28,
   "metadata": {
    "collapsed": false
   },
   "outputs": [
    {
     "data": {
      "image/png": "[encoded data removed]",
      "text/plain": [
       "<matplotlib.figure.Figure at 0x10d0425d0>"
      ]
     },
     "metadata": {},
     "output_type": "display_data"
    }
   ],
   "source": [
    "from sklearn import neighbors\n",
    "#Loop through each neighbors value from 1 to 51 and append the scores\n",
    "n_neighbors = range(1, 51, 2)\n",
    "scores = []\n",
    "for n in n_neighbors:\n",
    "    clf = neighbors.KNeighborsClassifier(n)\n",
    "    clf.fit(x_train, y_train)\n",
    "    scores.append(clf.score(x_test, y_test))\n",
    "\n",
    "plt.figure(figsize=(18,6))\n",
    "_ = plt.plot(n_neighbors, scores, linewidth=3.0)"
   ]
  },
  {
   "cell_type": "code",
   "execution_count": 29,
   "metadata": {
    "collapsed": false
   },
   "outputs": [
    {
     "name": "stdout",
     "output_type": "stream",
     "text": [
      "Accuracy on the training data set using KNN = 86.29\n",
      "Accuracy on the test data set using KNN = 87.33\n"
     ]
    }
   ],
   "source": [
    "#Looks like n=15 is a good shot\n",
    "n = 15\n",
    "knn_clf = neighbors.KNeighborsClassifier(n)\n",
    "knn_clf.fit(x_train, y_train)\n",
    "print \"Accuracy on the training data set using KNN = %0.2f\" % (knn_clf.score(x_train, y_train)*100)\n",
    "print \"Accuracy on the test data set using KNN = %0.2f\" % (knn_clf.score(x_test, y_test)*100)"
   ]
  },
  {
   "cell_type": "markdown",
   "metadata": {},
   "source": [
    "Looks like KNN is not that bad either. But let's cross validate for KNN."
   ]
  },
  {
   "cell_type": "code",
   "execution_count": 30,
   "metadata": {
    "collapsed": false
   },
   "outputs": [
    {
     "name": "stdout",
     "output_type": "stream",
     "text": [
      "[ 0.8125      0.86666667  0.86666667  0.86666667  0.86666667  0.86666667\n",
      "  0.86666667  0.86666667  0.86666667  0.85714286]\n",
      "Mean Accuracy on our overall data set using KNN = 86.03\n"
     ]
    }
   ],
   "source": [
    "# Checking mean accuracy with Cross Validation on the test set using 10 Fold Cross Validation\n",
    "scores = cross_val_score(knn_clf, x_test, y_test, cv=10)\n",
    "print scores\n",
    "print \"Mean Accuracy on our overall data set using KNN = %0.2f\" % (scores.mean()*100)"
   ]
  },
  {
   "cell_type": "markdown",
   "metadata": {},
   "source": [
    "Pretty much in Synch with our Logistic Regression Results. Go with the Logistic Regression for the predictions."
   ]
  }
 ],
 "metadata": {
  "kernelspec": {
   "display_name": "Python 2",
   "language": "python",
   "name": "python2"
  },
  "language_info": {
   "codemirror_mode": {
    "name": "ipython",
    "version": 2
   },
   "file_extension": ".py",
   "mimetype": "text/x-python",
   "name": "python",
   "nbconvert_exporter": "python",
   "pygments_lexer": "ipython2",
   "version": "2.7.9"
  }
 },
 "nbformat": 4,
 "nbformat_minor": 0
}
